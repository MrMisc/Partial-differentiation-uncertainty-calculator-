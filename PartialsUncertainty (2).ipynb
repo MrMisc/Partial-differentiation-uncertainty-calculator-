{
 "cells": [
  {
   "cell_type": "code",
   "execution_count": 16,
   "metadata": {},
   "outputs": [
    {
     "name": "stdout",
     "output_type": "stream",
     "text": [
      "h = Symbol('h') \n",
      "m = Symbol('m') \n",
      "r = Symbol('r') \n",
      "M = Symbol('M') \n",
      "R = Symbol('R') \n"
     ]
    }
   ],
   "source": [
    "from sympy import Derivative, Symbol\n",
    "import numpy as np\n",
    "### To change accordingly prior to reuse\n",
    "a=['h', 'm', 'r','M', 'R'] ###\n",
    "#value = [0.737, 37.086, 4.765E-3, 3.55, 7.83E-2]\n",
    "\n",
    "for i in a:\n",
    "    print( '{} = Symbol(\\'{}\\') '.format(i, i))\n"
   ]
  },
  {
   "cell_type": "code",
   "execution_count": 17,
   "metadata": {},
   "outputs": [
    {
     "name": "stdout",
     "output_type": "stream",
     "text": [
      "h -0.5*g*m*r**2/(M*R**2*h**2) -0.349371892781706\n",
      "m 0.5*g*r**2/(M*R**2*h) 0.00694297268457417\n",
      "r 1.0*g*m*r/(M*R**2*h) 108.074327378853\n",
      "M -0.5*g*m*r**2/(M**2*R**2*h) -0.0725315732338360\n",
      "R -1.0*g*m*r**2/(M*R**3*h) -6.57693703652919\n"
     ]
    }
   ],
   "source": [
    "h = Symbol('h') \n",
    "m = Symbol('m') \n",
    "r = Symbol('r') \n",
    "M = Symbol('M') \n",
    "R = Symbol('R') \n",
    "g = Symbol('g')\n",
    "\n",
    "f = m*g*r**2 * (2. * h * M * R**2)**(-1)       ###\n",
    "\n",
    "U = np.ones(len(a))\n",
    "for i in range(len(a)):\n",
    "    df = Derivative(f, a[i])\n",
    "    df1 = df.doit()\n",
    "    ddf = df1.subs({h:.737, m:37.086, r:4.765E-3, M:3.55, R:7.83E-2, g:9.81})    ### \n",
    "    print(a[i], df1, ddf)\n",
    "    U[i] *= ddf\n"
   ]
  },
  {
   "cell_type": "code",
   "execution_count": 20,
   "metadata": {},
   "outputs": [
    {
     "data": {
      "text/plain": [
       "array([-3.49371893e-01,  6.94297268e-03,  1.08074327e+02, -7.25315732e-02,\n",
       "       -6.57693704e+00])"
      ]
     },
     "execution_count": 20,
     "metadata": {},
     "output_type": "execute_result"
    }
   ],
   "source": [
    "U"
   ]
  },
  {
   "cell_type": "code",
   "execution_count": 19,
   "metadata": {},
   "outputs": [
    {
     "data": {
      "text/plain": [
       "0.011147443120729454"
      ]
     },
     "execution_count": 19,
     "metadata": {},
     "output_type": "execute_result"
    }
   ],
   "source": [
    "UU = [7E-4, 1.883, 5E-6, .03, 7E-6]   ###\n",
    "np.dot(U, UU)"
   ]
  },
  {
   "cell_type": "code",
   "execution_count": 2,
   "metadata": {},
   "outputs": [],
   "source": [
    "def log(message=None):\n",
    "    if message:\n",
    "        print(\"LOG: {0}\".format(message))\n",
    "    else:\n",
    "        print(\"CHICKEN NUGGET\")"
   ]
  },
  {
   "cell_type": "code",
   "execution_count": 3,
   "metadata": {},
   "outputs": [
    {
     "name": "stdout",
     "output_type": "stream",
     "text": [
      "CHICKEN NUGGET\n"
     ]
    }
   ],
   "source": [
    "log()"
   ]
  }
 ],
 "metadata": {
  "kernelspec": {
   "display_name": "Python 3",
   "language": "python",
   "name": "python3"
  },
  "language_info": {
   "codemirror_mode": {
    "name": "ipython",
    "version": 3
   },
   "file_extension": ".py",
   "mimetype": "text/x-python",
   "name": "python",
   "nbconvert_exporter": "python",
   "pygments_lexer": "ipython3",
   "version": "3.7.3"
  }
 },
 "nbformat": 4,
 "nbformat_minor": 4
}
